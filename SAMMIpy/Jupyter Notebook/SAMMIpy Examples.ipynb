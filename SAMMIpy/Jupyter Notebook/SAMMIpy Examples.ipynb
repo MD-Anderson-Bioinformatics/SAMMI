{
 "cells": [
  {
   "cell_type": "markdown",
   "metadata": {},
   "source": [
    "## SAMMIpy examples\n",
    "Example code for SAMMI visualizations directly from Python. Each Python cell will open a new browser with the generated SAMMI visualization. These examples are built into the SAMMI package. To run each of these examples call ```sammi.test(n)``` where ```n``` is the example number here.\n",
    "\n",
    "Start by loading the Libraries:"
   ]
  },
  {
   "cell_type": "code",
   "execution_count": 1,
   "metadata": {},
   "outputs": [],
   "source": [
    "import cobra\n",
    "import cobra.test\n",
    "import numpy as np\n",
    "import sammi"
   ]
  },
  {
   "cell_type": "markdown",
   "metadata": {},
   "source": [
    "##### 0 -  Plot entire model\n",
    "To plot entire model simply call ```sammi.plot()``` on the loaded model. This is not advisable for large models as the visualization may bet too large."
   ]
  },
  {
   "cell_type": "code",
   "execution_count": 8,
   "metadata": {},
   "outputs": [],
   "source": [
    "#Get sample model to plot\n",
    "model = cobra.test.create_test_model(\"textbook\")\n",
    "#Plot file to default index_load.html\n",
    "sammi.plot(model)"
   ]
  },
  {
   "cell_type": "markdown",
   "metadata": {},
   "source": [
    "##### 1 - Divide the model into subgraphs on load\n",
    "Plot a map for each subsytem:"
   ]
  },
  {
   "cell_type": "code",
   "execution_count": null,
   "metadata": {},
   "outputs": [],
   "source": [
    "#Get sample model to plot\n",
    "model = cobra.test.create_test_model(\"salmonella\")\n",
    "#Plot\n",
    "sammi.plot(model,'subsystem')"
   ]
  },
  {
   "cell_type": "markdown",
   "metadata": {},
   "source": [
    "2 - Plot a map for each compartment:"
   ]
  },
  {
   "cell_type": "code",
   "execution_count": null,
   "metadata": {},
   "outputs": [],
   "source": [
    "#Get sample model to plot\n",
    "model = cobra.test.create_test_model(\"textbook\")\n",
    "#Plot\n",
    "sammi.plot(model,'compartment')"
   ]
  },
  {
   "cell_type": "markdown",
   "metadata": {},
   "source": [
    "##### 3 - Plot and visualize multiple maps\n",
    "By default, SAMMI outputs the visualization to a file names ```index.load.html``` in the package folder. Therefore, by default, every time a new visualization is generated this file os overwritte. The name of the output file can be changed, however, in order to not overwrite files."
   ]
  },
  {
   "cell_type": "code",
   "execution_count": null,
   "metadata": {},
   "outputs": [],
   "source": [
    "#Get sample model to plot\n",
    "model = cobra.test.create_test_model(\"salmonella\")\n",
    "#Generate options. This will not load a new tab upon generating the visualization\n",
    "opts = sammi.options(load = False)\n",
    "#Plot file to default index_load.html\n",
    "sammi.plot(model,'subsystem',opts = opts)\n",
    "#Generate option for new name\n",
    "opts = sammi.options(htmlName = 'index_load2.html',load = False)\n",
    "#Plot file to default index_load.html\n",
    "sammi.plot(model,'compartment',opts = opts)\n",
    "#Open files in new tabs\n",
    "sammi.openmap('index_load.html')\n",
    "sammi.openmap('index_load2.html')"
   ]
  },
  {
   "cell_type": "markdown",
   "metadata": {},
   "source": [
    "##### 4 - Plot only certain groups of reactions\n",
    "Plot only certain reactions in a single graph and shelve secondary metabolites:"
   ]
  },
  {
   "cell_type": "code",
   "execution_count": 7,
   "metadata": {},
   "outputs": [],
   "source": [
    "#Get sample model to plot\n",
    "model = cobra.test.create_test_model(\"textbook\")\n",
    "\n",
    "#Define reactions\n",
    "tca = ['ACONTa','ACONTb','AKGDH','CS','FUM','ICDHyr','MDH','SUCOAS']\n",
    "gly = ['ENO','FBA','FBP','GAPD','PDH','PFK','PGI','PGK','PGM','PPS','PYK','TPI']\n",
    "ppp = ['G6PDH2r','GND','PGL','RPE','RPI','TALA','TKT1','TKT2']\n",
    "dat = tca + gly + ppp\n",
    "\n",
    "#Define secondaries\n",
    "secondaries = ['^h_.$','^h2o_.$','^atp_.$','^adp_.','^pi_.','^o2_.','^co2_.','^nad_.','^nadh_.','^ndap_.','^ndaph_.']\n",
    "\n",
    "#Plot\n",
    "sammi.plot(model,dat,secondaries = secondaries)"
   ]
  },
  {
   "cell_type": "markdown",
   "metadata": {},
   "source": [
    "##### 5 - Shelve Secondary Metabolites\n",
    "Metabolites can be shelved (temporarily removed) upon rendering the map. To use this functionality define the ```secondaries``` input to the plot function. If this argument is defined, any metabolite, matching any of the defined regular expressions, will be shelved. These metabolites can be returned to the graph using the floating menu window."
   ]
  },
  {
   "cell_type": "code",
   "execution_count": 7,
   "metadata": {},
   "outputs": [],
   "source": [
    "#Get sample model to plot\n",
    "model = cobra.test.create_test_model(\"textbook\")\n",
    "\n",
    "#Define reactions\n",
    "tca = ['ACONTa','ACONTb','AKGDH','CS','FUM','ICDHyr','MDH','SUCOAS']\n",
    "gly = ['ENO','FBA','FBP','GAPD','PDH','PFK','PGI','PGK','PGM','PPS','PYK','TPI']\n",
    "ppp = ['G6PDH2r','GND','PGL','RPE','RPI','TALA','TKT1','TKT2']\n",
    "dat = tca + gly + ppp\n",
    "\n",
    "#Define secondaries\n",
    "secondaries = ['^h_.$','^h2o_.$','^atp_.$','^adp_.','^pi_.','^o2_.','^co2_.','^nad_.','^nadh_.','^nadp_.','^nadph_.']\n",
    "\n",
    "#Plot\n",
    "sammi.plot(model,dat,secondaries = secondaries)"
   ]
  },
  {
   "cell_type": "markdown",
   "metadata": {},
   "source": [
    "6 - Plot lists of reactions as separate subgraphs:"
   ]
  },
  {
   "cell_type": "code",
   "execution_count": null,
   "metadata": {},
   "outputs": [],
   "source": [
    "#Get sample model to plot\n",
    "model = cobra.test.create_test_model(\"textbook\")\n",
    "\n",
    "#Define reactions\n",
    "tca = ['ACONTa','ACONTb','AKGDH','CS','FUM','ICDHyr','MDH','SUCOAS']\n",
    "gly = ['ENO','FBA','FBP','GAPD','PDH','PFK','PGI','PGK','PGM','PPS','PYK','TPI']\n",
    "ppp = ['G6PDH2r','GND','PGL','RPE','RPI','TALA','TKT1','TKT2']\n",
    "\n",
    "#Initialize class\n",
    "dat = [sammi.parser('TCA cycle',tca),\n",
    "      sammi.parser('Glycolysis/Gluconeogenesis',gly),\n",
    "      sammi.parser('Pentose Phosphate Pathway',ppp)]\n",
    "#Plot\n",
    "sammi.plot(model,dat)"
   ]
  },
  {
   "cell_type": "markdown",
   "metadata": {},
   "source": [
    "##### 7 - Data Mapping\n",
    "Add data to plotted subgraphs. In this case we are generating random data and mapping it onto the desired reactions."
   ]
  },
  {
   "cell_type": "code",
   "execution_count": 9,
   "metadata": {},
   "outputs": [],
   "source": [
    "#Get sample model to plot\n",
    "model = cobra.test.create_test_model(\"textbook\")\n",
    "\n",
    "#Define reactions\n",
    "tca = ['ACONTa','ACONTb','AKGDH','CS','FUM','ICDHyr','MDH','SUCOAS']\n",
    "gly = ['ENO','FBA','FBP','GAPD','PDH','PFK','PGI','PGK','PGM','PPS','PYK','TPI']\n",
    "ppp = ['G6PDH2r','GND','PGL','RPE','RPI','TALA','TKT1','TKT2']\n",
    "\n",
    "#Initialize class\n",
    "dat = [sammi.parser('TCA cycle',tca,np.random.rand(len(tca))),\n",
    "      sammi.parser('Glycolysis/Gluconeogenesis',gly,np.random.rand(len(gly))),\n",
    "      sammi.parser('Pentose Phosphate Pathway',ppp,np.random.rand(len(ppp)))]\n",
    "#Plot\n",
    "sammi.plot(model,dat)"
   ]
  },
  {
   "cell_type": "markdown",
   "metadata": {},
   "source": [
    "8 - Divide map into subsystems, map random data using color and size, and shelve secondary metabolites."
   ]
  },
  {
   "cell_type": "code",
   "execution_count": null,
   "metadata": {},
   "outputs": [],
   "source": [
    "#Get sample model to plot\n",
    "model = cobra.test.create_test_model(\"salmonella\")\n",
    "\n",
    "#Get reactions and metabolites\n",
    "rx = [f.id for f in model.reactions]\n",
    "met = [m.id for m in model.metabolites]\n",
    "\n",
    "#Generate random data to plot\n",
    "datat = [sammi.data('reactions','color',np.random.rand(len(rx),3),rx,['c1','c2','c3']),\n",
    "         sammi.data('reactions','size',np.random.rand(len(rx),3),rx,['c1','c2','c3']),\n",
    "         sammi.data('metabolites','color',np.random.rand(len(met),3),met,['c1','c2','c3']),\n",
    "         sammi.data('metabolites','size',np.random.rand(len(met),3),met,['c1','c2','c3']),\n",
    "         sammi.data('links','size',np.random.rand(len(rx),3),rx,['c1','c2','c3'])]\n",
    "\n",
    "#Introduce NAs\n",
    "for k in range(len(datat)):\n",
    "    for i in range(datat[k].data.shape[0]):\n",
    "        for j in range(datat[k].data.shape[1]):\n",
    "            if np.random.rand(1)[0] < 0.1:\n",
    "                datat[k].data[i,j] = float('nan')\n",
    "\n",
    "#Define secondaries\n",
    "secondaries = ['^h_.$','^h2o_.$','^atp_.$','^adp_.','^pi_.','^o2_.','^co2_.','^nad_.','^nadh_.','^ndap_.','^ndaph_.']\n",
    "\n",
    "#Plot\n",
    "sammi.plot(model,'subsystem',datat = datat,secondaries = secondaries,opts = sammi.options(load=True))"
   ]
  },
  {
   "cell_type": "markdown",
   "metadata": {},
   "source": [
    "##### 9 - Change map upon load\n",
    "SAMMI options also allow users to change visualization parameters upon loading the model. This can be done by adding JavaScript code to the end of the visualization. To use this advanced features users need to be familiar with JavaScript and need to familiarize themselves with the SAMMI visualization html layout. The following code loads the previous map, changes the visualization to the Citric Acid Cycle subgraph, and changes the colorscale upon loading."
   ]
  },
  {
   "cell_type": "code",
   "execution_count": null,
   "metadata": {},
   "outputs": [],
   "source": [
    "#Get sample model to plot\n",
    "model = cobra.test.create_test_model(\"salmonella\")\n",
    "\n",
    "#Get reactions and metabolites\n",
    "rx = [f.id for f in model.reactions]\n",
    "met = [m.id for m in model.metabolites]\n",
    "\n",
    "#Generate random data to plot\n",
    "datat = [sammi.data('reactions','color',np.random.rand(len(rx),3),rx,['c1','c2','c3']),\n",
    "         sammi.data('reactions','size',np.random.rand(len(rx),3),rx,['c1','c2','c3']),\n",
    "         sammi.data('metabolites','color',np.random.rand(len(met),3),met,['c1','c2','c3']),\n",
    "         sammi.data('metabolites','size',np.random.rand(len(met),3),met,['c1','c2','c3']),\n",
    "         sammi.data('links','size',np.random.rand(len(rx),3),rx,['c1','c2','c3'])]\n",
    "\n",
    "#Introduce NAs\n",
    "for k in range(len(datat)):\n",
    "    for i in range(datat[k].data.shape[0]):\n",
    "        for j in range(datat[k].data.shape[1]):\n",
    "            if np.random.rand(1)[0] < 0.1:\n",
    "                datat[k].data[i,j] = float('nan')\n",
    "\n",
    "#Define secondaries\n",
    "secondaries = ['^h_.$','^h2o_.$','^atp_.$','^adp_.','^pi_.','^o2_.','^co2_.','^nad_.','^nadh_.','^ndap_.','^ndaph_.']\n",
    "\n",
    "#Generate javascript\n",
    "jscode = 'x = document.getElementById(\"onloadf1\");' + \\\n",
    "'x.value = \"Citric Acid Cycle\";' + \\\n",
    "'onLoadSwitch(x);' + \\\n",
    "'document.getElementById(\"fluxmin\").valueAsNumber = -0.1;' + \\\n",
    "'document.getElementById(\"fluxmax\").valueAsNumber = 0.1;' + \\\n",
    "'fluxmin = -0.1; fluxmax = 0.1;' + \\\n",
    "'document.getElementById(\"edgemin\").value = \"#ff0000\";' + \\\n",
    "'document.getElementById(\"edgemax\").value = \"#0000ff\";' + \\\n",
    "'document.getElementById(\"addrxnbreak\").click();' + \\\n",
    "'document.getElementsByClassName(\"rxnbreakval\")[0].value = 0;' + \\\n",
    "'document.getElementsByClassName(\"rxnbreakcol\")[0].value = \"#c0c0c0\";' + \\\n",
    "'defineFluxColorVectors();'\n",
    "\n",
    "#Plot\n",
    "sammi.plot(model,'subsystem',datat = datat,secondaries = secondaries,opts = sammi.options(load=True,jscode=jscode))"
   ]
  },
  {
   "cell_type": "markdown",
   "metadata": {},
   "source": [
    "##### 10 - Type-III Pathways\n",
    "\n",
    "Type-III pathways are thermodynamically infeasible loops within the model that do not involve exchange reactions. Here we visualize some of these pathways. We first block all exchange reactions and perform FVA to determine reactions still able to carry flux. Next, we optimize each of these reactions using pFBA to determine the smallest possible Type-III pathway involving the reaction."
   ]
  },
  {
   "cell_type": "code",
   "execution_count": 8,
   "metadata": {},
   "outputs": [],
   "source": [
    "#Import\n",
    "from cobra.flux_analysis import flux_variability_analysis\n",
    "from cobra.flux_analysis.loopless import add_loopless, loopless_solution\n",
    "#Get model and tailor\n",
    "model = cobra.test.create_test_model(\"salmonella\")\n",
    "model.reactions.get_by_id('ATPM').lower_bound = 0\n",
    "model.reactions.get_by_id('ATPM').upper_bound = 1000\n",
    "rxns = [r.id for r in model.reactions]\n",
    "#Close exchange reactions\n",
    "medium = model.medium\n",
    "for i in model.medium:\n",
    "    medium[i] = 0.0\n",
    "model.medium = medium\n",
    "#Perform FVA on the model\n",
    "fva = flux_variability_analysis(model,fraction_of_optimum = 0)\n",
    "fva.maximum[fva.maximum < 1e-03] = 0\n",
    "fva.minimum[fva.minimum > -1e-03] = 0\n",
    "#Initialize\n",
    "dat = []\n",
    "#Parse through positive reactions\n",
    "for i in range(len(fva.maximum)):\n",
    "    if fva.maximum[i] != 0:\n",
    "        model.objective = model.reactions[i]\n",
    "        model.optimize()\n",
    "        flux = cobra.flux_analysis.pfba(model)\n",
    "        flux.fluxes[abs(flux.fluxes) < 1e-3] = 0\n",
    "        tmp = abs(flux.fluxes) >= 1e-3\n",
    "        dat.append(sammi.parser(model.reactions[i].id + ' positive',list(flux.fluxes[tmp].index),list(flux.fluxes[tmp].values)))\n",
    "#Parse through negative reactions\n",
    "for i in range(len(fva.minimum)):\n",
    "    if fva.minimum[i] != 0:\n",
    "        model.objective = model.reactions[i]\n",
    "        model.reactions[i].objective_coefficient = -1\n",
    "        flux = model.optimize()\n",
    "        flux = cobra.flux_analysis.pfba(model)\n",
    "        flux.fluxes[abs(flux.fluxes) < 1e-3] = 0\n",
    "        tmp = abs(flux.fluxes) >= 1e-3\n",
    "        dat.append(sammi.parser(model.reactions[i].id + ' negative',list(flux.fluxes[tmp].index),list(flux.fluxes[tmp].values)))\n",
    "#Plot\n",
    "sammi.plot(model,dat)"
   ]
  },
  {
   "cell_type": "markdown",
   "metadata": {},
   "source": [
    "##### 11 - Metabolic Adaptation\n",
    "Visualize adaptation to gene knockout. The following code starts from a loopless flux distribution in the wild-type model. Then, for each reaction, it calculates a loopless flux distribution in the knockout strain, then finds the difference between the knockout flux distribution and the wild-type flux distribution scaled to the knockout objective. This allows users to visualize how the knockout flux is rewired in each case. "
   ]
  },
  {
   "cell_type": "code",
   "execution_count": null,
   "metadata": {
    "scrolled": false
   },
   "outputs": [],
   "source": [
    "from cobra.flux_analysis import single_reaction_deletion, moma\n",
    "from cobra.flux_analysis.loopless import add_loopless, loopless_solution\n",
    "\n",
    "#Get model\n",
    "model = cobra.test.create_test_model(\"ecoli\")\n",
    "#Set objective\n",
    "model.objective = \"Ec_biomass_iJO1366_core_53p95M\"\n",
    "#Initialize parsing list\n",
    "dat = []\n",
    "#Define reactions to simulate knockout\n",
    "korxns = ['ENO','FBA','TKT2','TALA','FUM','MDH','GAPD','TPI']\n",
    "#Get original flux\n",
    "solution = model.optimize()\n",
    "flux = loopless_solution(model)\n",
    "#Simulate reaction knockout\n",
    "for r in korxns:\n",
    "    with model:\n",
    "        #Save original bounds\n",
    "        lb = model.reactions.get_by_id(r).lower_bound\n",
    "        ub = model.reactions.get_by_id(r).upper_bound\n",
    "        #Calculate adaptation\n",
    "        model.reactions.get_by_id(r).knock_out()\n",
    "        kosolution = model.optimize()\n",
    "        koflux = loopless_solution(model)\n",
    "        #Save\n",
    "        tmp = kosolution.objective_value*(flux.fluxes/solution.objective_value) - koflux.fluxes\n",
    "        bol = abs(tmp) > 1e-7\n",
    "        x = tmp[bol]\n",
    "        x[r] = float('nan')\n",
    "        dat.append(sammi.parser(r + ' - ' + str(round(kosolution.objective_value,4)),list(x.index),list(x)))\n",
    "        #Restore bounds again\n",
    "        model.reactions.get_by_id(r).lower_bound = lb\n",
    "        model.reactions.get_by_id(r).upper_bound = ub\n",
    "#Define secondaries\n",
    "secondaries = ['^h_.$','^h2o_.$','^atp_.$','^adp_.','^pi_.','^o2_.','^co2_.','^nad_.','^nadh_.','^ndap_.','^ndaph_.',\\\n",
    "               '^q8_.$','^q8h2_.$','^nadp_.','^nadph_.']\n",
    "#Plot difference in scatterplot\n",
    "sammi.plot(model,dat,secondaries = secondaries)"
   ]
  }
 ],
 "metadata": {
  "kernelspec": {
   "display_name": "Python 3",
   "language": "python",
   "name": "python3"
  },
  "language_info": {
   "codemirror_mode": {
    "name": "ipython",
    "version": 3
   },
   "file_extension": ".py",
   "mimetype": "text/x-python",
   "name": "python",
   "nbconvert_exporter": "python",
   "pygments_lexer": "ipython3",
   "version": "3.7.1"
  }
 },
 "nbformat": 4,
 "nbformat_minor": 2
}
